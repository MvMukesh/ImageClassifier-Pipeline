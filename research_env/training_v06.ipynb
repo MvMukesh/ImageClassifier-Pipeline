{
 "cells": [
  {
   "cell_type": "markdown",
   "metadata": {},
   "source": [
    "# Training Code"
   ]
  },
  {
   "cell_type": "code",
   "execution_count": 1,
   "metadata": {},
   "outputs": [
    {
     "data": {
      "text/plain": [
       "'/media/manralai/Drive D/ImageClassifier-Pipeline/research_env'"
      ]
     },
     "execution_count": 1,
     "metadata": {},
     "output_type": "execute_result"
    }
   ],
   "source": [
    "%pwd"
   ]
  },
  {
   "cell_type": "code",
   "execution_count": 2,
   "metadata": {},
   "outputs": [
    {
     "name": "stdout",
     "output_type": "stream",
     "text": [
      "/media/manralai/Drive D/ImageClassifier-Pipeline\n"
     ]
    }
   ],
   "source": [
    "# to root\n",
    "%cd .."
   ]
  },
  {
   "cell_type": "code",
   "execution_count": 18,
   "metadata": {},
   "outputs": [],
   "source": [
    "import warnings\n",
    "warnings.filterwarnings(\"ignore\")"
   ]
  },
  {
   "cell_type": "markdown",
   "metadata": {},
   "source": [
    "### Creating Entity Realted with Trainig Configuration"
   ]
  },
  {
   "cell_type": "code",
   "execution_count": 19,
   "metadata": {},
   "outputs": [],
   "source": [
    "from pathlib import Path\n",
    "from dataclasses import dataclass\n",
    "\n",
    "\n",
    "\n",
    "@dataclass(frozen=True)\n",
    "class TrainingConfig:\n",
    "    root_dir: Path\n",
    "    trained_model_path: Path\n",
    "    updated_base_model_path: Path\n",
    "    training_data: Path\n",
    "    params_epochs: int\n",
    "    params_batch_size: int\n",
    "    params_is_augmentation: bool\n",
    "    params_image_size: list\n",
    "\n",
    "\n",
    "@dataclass(frozen=True)\n",
    "class PrepareCallbacksConfig:\n",
    "    root_dir: Path\n",
    "    tensorboard_root_log_dir: Path\n",
    "    checkpoint_model_filepath: Path"
   ]
  },
  {
   "cell_type": "markdown",
   "metadata": {},
   "source": [
    "### Configuration Manager Class"
   ]
  },
  {
   "cell_type": "code",
   "execution_count": 24,
   "metadata": {},
   "outputs": [],
   "source": [
    "import os\n",
    "import tensorflow as tf\n",
    "from imageClassifier.constants import *\n",
    "from imageClassifier.utils import read_yaml, create_directories\n",
    "\n",
    "\n",
    "\n",
    "class ConfigurationManager:\n",
    "    def __init__(self,config_filepath = CONFIG_FILE_PATH,params_filepath=PARAMS_FILE_PATH):\n",
    "        self.config = read_yaml(config_filepath)\n",
    "        self.params = read_yaml(params_filepath)\n",
    "        create_directories([self.config.artifacts_root])\n",
    "\n",
    "    \n",
    "    def get_prepare_callback_config(self) -> PrepareCallbacksConfig:\n",
    "        config = self.config.prepare_callbacks\n",
    "        model_ckpt_dir = os.path.dirname(config.checkpoint_model_filepath)\n",
    "        create_directories([Path(model_ckpt_dir),Path(config.tensorboard_root_log_dir)])\n",
    "\n",
    "        prepare_callback_config = PrepareCallbacksConfig(root_dir=Path(config.root_dir),\n",
    "                                                         tensorboard_root_log_dir=Path(config.tensorboard_root_log_dir),\n",
    "                                                         checkpoint_model_filepath=Path(config.checkpoint_model_filepath))\n",
    "        return prepare_callback_config\n",
    "    \n",
    "\n",
    "    def get_training_config(self) -> TrainingConfig:\n",
    "        training = self.config.training\n",
    "        prepare_base_model = self.config.prepare_base_model\n",
    "        params = self.params\n",
    "        training_data = os.path.join(self.config.data_ingestion.unzip_dir,\"classifier_data_v01\") #\"updated folder from PetImages\"\n",
    "        create_directories([Path(training.root_dir)])\n",
    "\n",
    "        training_config = TrainingConfig(root_dir=Path(training.root_dir),\n",
    "                                         trained_model_path=Path(training.trained_model_path),\n",
    "                                         updated_base_model_path=Path(prepare_base_model.updated_base_model_path),\n",
    "                                         training_data=Path(training_data),\n",
    "                                         params_epochs=params.EPOCHS,\n",
    "                                         params_batch_size=params.BATCH_SIZE,\n",
    "                                         params_is_augmentation=params.AUGMENTATION,\n",
    "                                         params_image_size=params.IMAGE_SIZE)\n",
    "        return training_config"
   ]
  },
  {
   "cell_type": "markdown",
   "metadata": {},
   "source": [
    "### Preparing Callbacks"
   ]
  },
  {
   "cell_type": "code",
   "execution_count": 25,
   "metadata": {},
   "outputs": [],
   "source": [
    "import time\n",
    "\n",
    "\n",
    "\n",
    "class PrepareCallback:\n",
    "    def __init__(self, config: PrepareCallbacksConfig):\n",
    "        self.config = config\n",
    "\n",
    "    \n",
    "    @property\n",
    "    def _create_tb_callbacks(self):\n",
    "        timestamp = time.strftime(\"%Y-%m-%d-%H-%M-%S\")\n",
    "        tb_running_log_dir = os.path.join(self.config.tensorboard_root_log_dir,f\"tb_logs_at_{timestamp}\",)\n",
    "        return tf.keras.callbacks.TensorBoard(log_dir=tb_running_log_dir)\n",
    "    \n",
    "\n",
    "    @property\n",
    "    def _create_ckpt_callbacks(self):\n",
    "        return tf.keras.callbacks.ModelCheckpoint(filepath=str(self.config.checkpoint_model_filepath),save_best_only=True)\n",
    "\n",
    "\n",
    "    def get_tb_ckpt_callbacks(self):\n",
    "        return [self._create_tb_callbacks,self._create_ckpt_callbacks]\n",
    "\n"
   ]
  },
  {
   "cell_type": "markdown",
   "metadata": {},
   "source": [
    "### Training Components"
   ]
  },
  {
   "cell_type": "code",
   "execution_count": 26,
   "metadata": {},
   "outputs": [],
   "source": [
    "import os\n",
    "import time\n",
    "import tensorflow as tf\n",
    "from zipfile import ZipFile\n",
    "import urllib.request as request\n",
    "\n",
    "\n",
    "\n",
    "class Training:\n",
    "    #initialization : Training class is initialized with a TrainingConfig object, \n",
    "    #                   which likely contains configuration parameters for training process.\n",
    "    def __init__(self, config:TrainingConfig):\n",
    "        self.config = config\n",
    "    \n",
    "    #loading base model : method loads a pre-existing base model specified by updated_base_model_path from configuration.\n",
    "    def get_base_model(self):\n",
    "        self.model = tf.keras.models.load_model(self.config.updated_base_model_path)\n",
    "    \n",
    "    #generatorSetup : seting up image data generators for both training and validation\n",
    "    #                   uses TensorFlow's ImageDataGenerator to perform data augmentation \n",
    "    #                   during training if specified by params_is_augmentation in the configuration    \n",
    "    def train_valid_generator(self):\n",
    "        datagenerator_kwargs = dict(rescale = 1./255,validation_split=0.20)\n",
    "        dataflow_kwargs = dict(target_size=self.config.params_image_size[:-1],\n",
    "                               batch_size=self.config.params_batch_size,\n",
    "                               interpolation=\"bilinear\")\n",
    "        valid_datagenerator = tf.keras.preprocessing.image.ImageDataGenerator(**datagenerator_kwargs)\n",
    "\n",
    "        self.valid_generator = valid_datagenerator.flow_from_directory(directory=self.config.training_data,\n",
    "                                                                       subset=\"validation\",\n",
    "                                                                       shuffle=False,\n",
    "                                                                       **dataflow_kwargs)\n",
    "        if self.config.params_is_augmentation:\n",
    "            train_datagenerator = tf.keras.preprocessing.image.ImageDataGenerator(rotation_range=40,\n",
    "                                                                                  horizontal_flip=True,\n",
    "                                                                                  width_shift_range=0.2,\n",
    "                                                                                  height_shift_range=0.2,\n",
    "                                                                                  shear_range=0.2,\n",
    "                                                                                  zoom_range=0.2,\n",
    "                                                                                  **datagenerator_kwargs)\n",
    "        else:\n",
    "            train_datagenerator = valid_datagenerator\n",
    "\n",
    "        self.train_generator = train_datagenerator.flow_from_directory(directory=self.config.training_data,\n",
    "                                                                       subset=\"training\",\n",
    "                                                                       shuffle=True,\n",
    "                                                                       **dataflow_kwargs)\n",
    "    #Saving Trained Model : static method is used to save trained model to a specified path\n",
    "    @staticmethod\n",
    "    def save_model(path:Path, model:tf.keras.Model):\n",
    "        model.save(path)\n",
    "\n",
    "\n",
    "    #Training Process\n",
    "    def train(self, callback_list:list):\n",
    "        self.steps_per_epoch = self.train_generator.samples // self.train_generator.batch_size\n",
    "        self.validation_steps = self.valid_generator.samples // self.valid_generator.batch_size\n",
    "\n",
    "        self.model.fit(self.train_generator,\n",
    "                       epochs=self.config.params_epochs,\n",
    "                       steps_per_epoch=self.steps_per_epoch,\n",
    "                       validation_steps=self.validation_steps,\n",
    "                       validation_data=self.valid_generator,\n",
    "                       callbacks=callback_list)\n",
    "        self.save_model(path=self.config.trained_model_path,model=self.model)"
   ]
  },
  {
   "cell_type": "code",
   "execution_count": 29,
   "metadata": {},
   "outputs": [
    {
     "name": "stdout",
     "output_type": "stream",
     "text": [
      "[2024-01-06 15:10:04,116: INFO: common: yaml file: config/config.yaml loaded successfully]\n",
      "[2024-01-06 15:10:04,126: INFO: common: yaml file: params.yaml loaded successfully]\n",
      "[2024-01-06 15:10:04,130: INFO: common: Created directory at: artifacts]\n",
      "[2024-01-06 15:10:04,133: INFO: common: Created directory at: artifacts/prepare_callbacks/checkpoint_dir]\n",
      "[2024-01-06 15:10:04,136: INFO: common: Created directory at: artifacts/prepare_callbacks/tensorboard_log_dir]\n",
      "[2024-01-06 15:10:04,140: INFO: common: Created directory at: artifacts/training]\n"
     ]
    },
    {
     "name": "stdout",
     "output_type": "stream",
     "text": [
      "Found 200 images belonging to 2 classes.\n",
      "Found 800 images belonging to 2 classes.\n",
      "Epoch 1/20\n",
      "30/30 [==============================] - 90s 3s/step - loss: 13.1497 - accuracy: 0.5530 - val_loss: 20.2577 - val_accuracy: 0.5000\n",
      "Epoch 2/20\n",
      "30/30 [==============================] - 94s 3s/step - loss: 14.7692 - accuracy: 0.5284 - val_loss: 8.2784 - val_accuracy: 0.5055\n",
      "Epoch 3/20\n",
      "30/30 [==============================] - 92s 3s/step - loss: 11.6622 - accuracy: 0.5698 - val_loss: 8.7291 - val_accuracy: 0.5330\n",
      "Epoch 4/20\n",
      "30/30 [==============================] - 93s 3s/step - loss: 11.1315 - accuracy: 0.5685 - val_loss: 13.8611 - val_accuracy: 0.5000\n",
      "Epoch 5/20\n",
      "30/30 [==============================] - 101s 3s/step - loss: 10.0728 - accuracy: 0.5801 - val_loss: 5.6549 - val_accuracy: 0.6593\n",
      "Epoch 6/20\n",
      "30/30 [==============================] - 97s 3s/step - loss: 11.5021 - accuracy: 0.5401 - val_loss: 10.2535 - val_accuracy: 0.5495\n",
      "Epoch 7/20\n",
      "30/30 [==============================] - 100s 3s/step - loss: 8.8952 - accuracy: 0.5969 - val_loss: 10.7641 - val_accuracy: 0.5495\n",
      "Epoch 8/20\n",
      "30/30 [==============================] - 93s 3s/step - loss: 6.7109 - accuracy: 0.6563 - val_loss: 2.8003 - val_accuracy: 0.7857\n",
      "Epoch 9/20\n",
      "30/30 [==============================] - 98s 3s/step - loss: 6.8306 - accuracy: 0.6421 - val_loss: 7.8236 - val_accuracy: 0.5989\n",
      "Epoch 10/20\n",
      "30/30 [==============================] - 101s 3s/step - loss: 7.5317 - accuracy: 0.6266 - val_loss: 4.4061 - val_accuracy: 0.7198\n",
      "Epoch 11/20\n",
      "30/30 [==============================] - 102s 3s/step - loss: 7.3639 - accuracy: 0.6189 - val_loss: 10.9087 - val_accuracy: 0.6209\n",
      "Epoch 12/20\n",
      "30/30 [==============================] - 97s 3s/step - loss: 6.4338 - accuracy: 0.6757 - val_loss: 4.4647 - val_accuracy: 0.7308\n",
      "Epoch 13/20\n",
      "30/30 [==============================] - 102s 3s/step - loss: 4.9617 - accuracy: 0.6925 - val_loss: 1.5739 - val_accuracy: 0.8571\n",
      "Epoch 14/20\n",
      "30/30 [==============================] - 96s 3s/step - loss: 4.8106 - accuracy: 0.7132 - val_loss: 1.4952 - val_accuracy: 0.8626\n",
      "Epoch 15/20\n",
      "30/30 [==============================] - 93s 3s/step - loss: 5.6186 - accuracy: 0.6731 - val_loss: 10.8137 - val_accuracy: 0.5714\n",
      "Epoch 16/20\n",
      "30/30 [==============================] - 93s 3s/step - loss: 6.8554 - accuracy: 0.6602 - val_loss: 2.6191 - val_accuracy: 0.8022\n",
      "Epoch 17/20\n",
      "30/30 [==============================] - 96s 3s/step - loss: 5.1512 - accuracy: 0.7119 - val_loss: 2.9258 - val_accuracy: 0.7802\n",
      "Epoch 18/20\n",
      "30/30 [==============================] - 94s 3s/step - loss: 3.8177 - accuracy: 0.7326 - val_loss: 5.3796 - val_accuracy: 0.6978\n",
      "Epoch 19/20\n",
      "30/30 [==============================] - 93s 3s/step - loss: 4.8894 - accuracy: 0.6964 - val_loss: 4.4592 - val_accuracy: 0.7253\n",
      "Epoch 20/20\n",
      "30/30 [==============================] - 92s 3s/step - loss: 4.2183 - accuracy: 0.7274 - val_loss: 3.1422 - val_accuracy: 0.7802\n"
     ]
    }
   ],
   "source": [
    "try:\n",
    "    config = ConfigurationManager()\n",
    "    prepare_callbacks_config = config.get_prepare_callback_config()\n",
    "    prepare_callbacks = PrepareCallback(config=prepare_callbacks_config)\n",
    "    callback_list = prepare_callbacks.get_tb_ckpt_callbacks()\n",
    "\n",
    "    training_config = config.get_training_config()\n",
    "    training = Training(config=training_config)\n",
    "    training.get_base_model()\n",
    "    training.train_valid_generator()\n",
    "    training.train(callback_list=callback_list)\n",
    "except Exception as e:\n",
    "    raise e"
   ]
  }
 ],
 "metadata": {
  "kernelspec": {
   "display_name": "env_imgClfPipe",
   "language": "python",
   "name": "python3"
  },
  "language_info": {
   "codemirror_mode": {
    "name": "ipython",
    "version": 3
   },
   "file_extension": ".py",
   "mimetype": "text/x-python",
   "name": "python",
   "nbconvert_exporter": "python",
   "pygments_lexer": "ipython3",
   "version": "3.8.18"
  }
 },
 "nbformat": 4,
 "nbformat_minor": 2
}
