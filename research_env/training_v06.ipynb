{
 "cells": [
  {
   "cell_type": "markdown",
   "metadata": {},
   "source": [
    "# Training Code"
   ]
  },
  {
   "cell_type": "code",
   "execution_count": 1,
   "metadata": {},
   "outputs": [
    {
     "data": {
      "text/plain": [
       "'/media/manralai/Drive D/ImageClassifier-Pipeline/research_env'"
      ]
     },
     "execution_count": 1,
     "metadata": {},
     "output_type": "execute_result"
    }
   ],
   "source": [
    "%pwd"
   ]
  },
  {
   "cell_type": "code",
   "execution_count": 2,
   "metadata": {},
   "outputs": [
    {
     "name": "stdout",
     "output_type": "stream",
     "text": [
      "/media/manralai/Drive D/ImageClassifier-Pipeline\n"
     ]
    }
   ],
   "source": [
    "# to root\n",
    "%cd .."
   ]
  },
  {
   "cell_type": "code",
   "execution_count": 18,
   "metadata": {},
   "outputs": [],
   "source": [
    "import warnings\n",
    "warnings.filterwarnings(\"ignore\")"
   ]
  },
  {
   "cell_type": "markdown",
   "metadata": {},
   "source": [
    "### Creating Entity Realted with Trainig Configuration"
   ]
  },
  {
   "cell_type": "code",
   "execution_count": 19,
   "metadata": {},
   "outputs": [],
   "source": [
    "from pathlib import Path\n",
    "from dataclasses import dataclass\n",
    "\n",
    "\n",
    "\n",
    "@dataclass(frozen=True)\n",
    "class TrainingConfig:\n",
    "    root_dir: Path\n",
    "    trained_model_path: Path\n",
    "    updated_base_model_path: Path\n",
    "    training_data: Path\n",
    "    params_epochs: int\n",
    "    params_batch_size: int\n",
    "    params_is_augmentation: bool\n",
    "    params_image_size: list\n",
    "\n",
    "\n",
    "@dataclass(frozen=True)\n",
    "class PrepareCallbacksConfig:\n",
    "    root_dir: Path\n",
    "    tensorboard_root_log_dir: Path\n",
    "    checkpoint_model_filepath: Path"
   ]
  },
  {
   "cell_type": "markdown",
   "metadata": {},
   "source": [
    "### Configuration Manager Class"
   ]
  },
  {
   "cell_type": "code",
   "execution_count": 24,
   "metadata": {},
   "outputs": [],
   "source": [
    "import os\n",
    "import tensorflow as tf\n",
    "from imageClassifier.constants import *\n",
    "from imageClassifier.utils import read_yaml, create_directories\n",
    "\n",
    "\n",
    "\n",
    "class ConfigurationManager:\n",
    "    def __init__(self,config_filepath = CONFIG_FILE_PATH,params_filepath=PARAMS_FILE_PATH):\n",
    "        self.config = read_yaml(config_filepath)\n",
    "        self.params = read_yaml(params_filepath)\n",
    "        create_directories([self.config.artifacts_root])\n",
    "\n",
    "    \n",
    "    def get_prepare_callback_config(self) -> PrepareCallbacksConfig:\n",
    "        config = self.config.prepare_callbacks\n",
    "        model_ckpt_dir = os.path.dirname(config.checkpoint_model_filepath)\n",
    "        create_directories([Path(model_ckpt_dir),Path(config.tensorboard_root_log_dir)])\n",
    "\n",
    "        prepare_callback_config = PrepareCallbacksConfig(root_dir=Path(config.root_dir),\n",
    "                                                         tensorboard_root_log_dir=Path(config.tensorboard_root_log_dir),\n",
    "                                                         checkpoint_model_filepath=Path(config.checkpoint_model_filepath))\n",
    "        return prepare_callback_config\n",
    "    \n",
    "\n",
    "    def get_training_config(self) -> TrainingConfig:\n",
    "        training = self.config.training\n",
    "        prepare_base_model = self.config.prepare_base_model\n",
    "        params = self.params\n",
    "        training_data = os.path.join(self.config.data_ingestion.unzip_dir,\"classifier_data_v01\") #\"updated folder from PetImages\"\n",
    "        create_directories([Path(training.root_dir)])\n",
    "\n",
    "        training_config = TrainingConfig(root_dir=Path(training.root_dir),\n",
    "                                         trained_model_path=Path(training.trained_model_path),\n",
    "                                         updated_base_model_path=Path(prepare_base_model.updated_base_model_path),\n",
    "                                         training_data=Path(training_data),\n",
    "                                         params_epochs=params.EPOCHS,\n",
    "                                         params_batch_size=params.BATCH_SIZE,\n",
    "                                         params_is_augmentation=params.AUGMENTATION,\n",
    "                                         params_image_size=params.IMAGE_SIZE)\n",
    "        return training_config"
   ]
  },
  {
   "cell_type": "markdown",
   "metadata": {},
   "source": [
    "### Preparing Callbacks"
   ]
  },
  {
   "cell_type": "code",
   "execution_count": 25,
   "metadata": {},
   "outputs": [],
   "source": [
    "import time\n",
    "\n",
    "\n",
    "\n",
    "class PrepareCallback:\n",
    "    def __init__(self, config: PrepareCallbacksConfig):\n",
    "        self.config = config\n",
    "\n",
    "    \n",
    "    @property\n",
    "    def _create_tb_callbacks(self):\n",
    "        timestamp = time.strftime(\"%Y-%m-%d-%H-%M-%S\")\n",
    "        tb_running_log_dir = os.path.join(self.config.tensorboard_root_log_dir,f\"tb_logs_at_{timestamp}\",)\n",
    "        return tf.keras.callbacks.TensorBoard(log_dir=tb_running_log_dir)\n",
    "    \n",
    "\n",
    "    @property\n",
    "    def _create_ckpt_callbacks(self):\n",
    "        return tf.keras.callbacks.ModelCheckpoint(filepath=str(self.config.checkpoint_model_filepath),save_best_only=True)\n",
    "\n",
    "\n",
    "    def get_tb_ckpt_callbacks(self):\n",
    "        return [self._create_tb_callbacks,self._create_ckpt_callbacks]\n",
    "\n"
   ]
  },
  {
   "cell_type": "markdown",
   "metadata": {},
   "source": [
    "### Training Components"
   ]
  },
  {
   "cell_type": "code",
   "execution_count": 26,
   "metadata": {},
   "outputs": [],
   "source": [
    "import os\n",
    "import time\n",
    "import tensorflow as tf\n",
    "from zipfile import ZipFile\n",
    "import urllib.request as request\n",
    "\n",
    "\n",
    "\n",
    "class Training:\n",
    "    #initialization : Training class is initialized with a TrainingConfig object, \n",
    "    #                   which likely contains configuration parameters for training process.\n",
    "    def __init__(self, config:TrainingConfig):\n",
    "        self.config = config\n",
    "    \n",
    "    #loading base model : method loads a pre-existing base model specified by updated_base_model_path from configuration.\n",
    "    def get_base_model(self):\n",
    "        self.model = tf.keras.models.load_model(self.config.updated_base_model_path)\n",
    "    \n",
    "    #generatorSetup : seting up image data generators for both training and validation\n",
    "    #                   uses TensorFlow's ImageDataGenerator to perform data augmentation \n",
    "    #                   during training if specified by params_is_augmentation in the configuration    \n",
    "    def train_valid_generator(self):\n",
    "        datagenerator_kwargs = dict(rescale = 1./255,validation_split=0.20)\n",
    "        dataflow_kwargs = dict(target_size=self.config.params_image_size[:-1],\n",
    "                               batch_size=self.config.params_batch_size,\n",
    "                               interpolation=\"bilinear\")\n",
    "        valid_datagenerator = tf.keras.preprocessing.image.ImageDataGenerator(**datagenerator_kwargs)\n",
    "\n",
    "        self.valid_generator = valid_datagenerator.flow_from_directory(directory=self.config.training_data,\n",
    "                                                                       subset=\"validation\",\n",
    "                                                                       shuffle=False,\n",
    "                                                                       **dataflow_kwargs)\n",
    "        if self.config.params_is_augmentation:\n",
    "            train_datagenerator = tf.keras.preprocessing.image.ImageDataGenerator(rotation_range=40,\n",
    "                                                                                  horizontal_flip=True,\n",
    "                                                                                  width_shift_range=0.2,\n",
    "                                                                                  height_shift_range=0.2,\n",
    "                                                                                  shear_range=0.2,\n",
    "                                                                                  zoom_range=0.2,\n",
    "                                                                                  **datagenerator_kwargs)\n",
    "        else:\n",
    "            train_datagenerator = valid_datagenerator\n",
    "\n",
    "        self.train_generator = train_datagenerator.flow_from_directory(directory=self.config.training_data,\n",
    "                                                                       subset=\"training\",\n",
    "                                                                       shuffle=True,\n",
    "                                                                       **dataflow_kwargs)\n",
    "    #Saving Trained Model : static method is used to save trained model to a specified path\n",
    "    @staticmethod\n",
    "    def save_model(path:Path, model:tf.keras.Model):\n",
    "        model.save(path)\n",
    "\n",
    "\n",
    "    #Training Process\n",
    "    def train(self, callback_list:list):\n",
    "        self.steps_per_epoch = self.train_generator.samples // self.train_generator.batch_size\n",
    "        self.validation_steps = self.valid_generator.samples // self.valid_generator.batch_size\n",
    "\n",
    "        self.model.fit(self.train_generator,\n",
    "                       epochs=self.config.params_epochs,\n",
    "                       steps_per_epoch=self.steps_per_epoch,\n",
    "                       validation_steps=self.validation_steps,\n",
    "                       validation_data=self.valid_generator,\n",
    "                       callbacks=callback_list)\n",
    "        self.save_model(path=self.config.trained_model_path,model=self.model)"
   ]
  },
  {
   "cell_type": "code",
   "execution_count": 29,
   "metadata": {},
   "outputs": [
    {
     "name": "stdout",
     "output_type": "stream",
     "text": [
      "[2024-01-06 15:10:04,116: INFO: common: yaml file: config/config.yaml loaded successfully]\n",
      "[2024-01-06 15:10:04,126: INFO: common: yaml file: params.yaml loaded successfully]\n",
      "[2024-01-06 15:10:04,130: INFO: common: Created directory at: artifacts]\n",
      "[2024-01-06 15:10:04,133: INFO: common: Created directory at: artifacts/prepare_callbacks/checkpoint_dir]\n",
      "[2024-01-06 15:10:04,136: INFO: common: Created directory at: artifacts/prepare_callbacks/tensorboard_log_dir]\n",
      "[2024-01-06 15:10:04,140: INFO: common: Created directory at: artifacts/training]\n"
     ]
    },
    {
     "name": "stdout",
     "output_type": "stream",
     "text": [
      "Found 200 images belonging to 2 classes.\n",
      "Found 800 images belonging to 2 classes.\n",
      "Epoch 1/20\n",
      "14/30 [=============>................] - ETA: 37s - loss: 11.4716 - accuracy: 0.5852"
     ]
    }
   ],
   "source": [
    "try:\n",
    "    config = ConfigurationManager()\n",
    "    prepare_callbacks_config = config.get_prepare_callback_config()\n",
    "    prepare_callbacks = PrepareCallback(config=prepare_callbacks_config)\n",
    "    callback_list = prepare_callbacks.get_tb_ckpt_callbacks()\n",
    "\n",
    "    training_config = config.get_training_config()\n",
    "    training = Training(config=training_config)\n",
    "    training.get_base_model()\n",
    "    training.train_valid_generator()\n",
    "    training.train(callback_list=callback_list)\n",
    "except Exception as e:\n",
    "    raise e"
   ]
  },
  {
   "cell_type": "markdown",
   "metadata": {},
   "source": []
  }
 ],
 "metadata": {
  "kernelspec": {
   "display_name": "env_imgClfPipe",
   "language": "python",
   "name": "python3"
  },
  "language_info": {
   "codemirror_mode": {
    "name": "ipython",
    "version": 3
   },
   "file_extension": ".py",
   "mimetype": "text/x-python",
   "name": "python",
   "nbconvert_exporter": "python",
   "pygments_lexer": "ipython3",
   "version": "3.8.18"
  }
 },
 "nbformat": 4,
 "nbformat_minor": 2
}
