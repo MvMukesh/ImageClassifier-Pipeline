{
 "cells": [
  {
   "attachments": {},
   "cell_type": "markdown",
   "metadata": {},
   "source": [
    "## Testing Data Ingestion Stage\n",
    "\n",
    "* Testing basic functionality of data ingestion pipeline"
   ]
  },
  {
   "cell_type": "code",
   "execution_count": 1,
   "metadata": {},
   "outputs": [
    {
     "data": {
      "text/plain": [
       "'/media/manralai/Drive D/ImageClassifier-Pipeline/research_env'"
      ]
     },
     "execution_count": 1,
     "metadata": {},
     "output_type": "execute_result"
    }
   ],
   "source": [
    "%pwd"
   ]
  },
  {
   "cell_type": "code",
   "execution_count": 2,
   "metadata": {},
   "outputs": [
    {
     "name": "stdout",
     "output_type": "stream",
     "text": [
      "/media/manralai/Drive D/ImageClassifier-Pipeline\n"
     ]
    }
   ],
   "source": [
    "### to root directory\n",
    "%cd ..\n",
    "\n",
    "#It will create a log file inside research_env - remov that at the end "
   ]
  },
  {
   "cell_type": "markdown",
   "metadata": {},
   "source": [
    "### Creating Entity\n",
    "\n",
    "Entity shows what will be the return type of say class"
   ]
  },
  {
   "cell_type": "code",
   "execution_count": 3,
   "metadata": {},
   "outputs": [
    {
     "data": {
      "text/plain": [
       "__main__.DataIngestionConfig"
      ]
     },
     "execution_count": 3,
     "metadata": {},
     "output_type": "execute_result"
    }
   ],
   "source": [
    "## unmanaged code for DataIngestionConfig --> Entity Method Demo Code\n",
    "import os\n",
    "from collections import namedtuple\n",
    "\n",
    "\n",
    "DataIngestionConfig = namedtuple(\"DataIngestionConfig\", \n",
    "                                 [\"root_dir\",\"source_URL\",\n",
    "                                  \"local_data_file\",\n",
    "                                  \"unzip_dir\"\n",
    "                                  ])\n",
    "\n",
    "DataIngestionConfig"
   ]
  },
  {
   "cell_type": "code",
   "execution_count": 4,
   "metadata": {},
   "outputs": [],
   "source": [
    "## More managed code for DataIngestionConfig, using --> Dataclass Method\n",
    "from pathlib import Path\n",
    "from dataclasses import dataclass\n",
    "\n",
    "\n",
    "@dataclass(frozen=True)\n",
    "class DataIngestionConfig:\n",
    "    root_dir: Path\n",
    "    source_URL: str\n",
    "    local_data_file: Path\n",
    "    unzip_dir: Path"
   ]
  },
  {
   "cell_type": "markdown",
   "metadata": {},
   "source": [
    "### Defining Configuration Manager\n",
    "\n",
    "Here we have to return:\n",
    "1. `config.yaml`\n",
    "2. `params.yaml`\n",
    "\n",
    "For importing our constants:\n",
    "* We have to return both yaml file paths, so define in the constructor of `constants folder`\n",
    "\n",
    "---\n",
    "\n",
    "From `utils folder's` common.py we will require two methods:\n",
    "1. `read_yaml`\n",
    "2. `create_directories`\n",
    "\n",
    "Also perform importing operation in the constructor of utils folder\n",
    "* we are doing this as we don't want to write full path times and again"
   ]
  },
  {
   "cell_type": "code",
   "execution_count": 5,
   "metadata": {},
   "outputs": [],
   "source": [
    "## importing from constants folder\n",
    "from imageClassifier.constants import *\n",
    "from imageClassifier.utils import read_yaml, create_directories\n",
    "\n",
    "   \n",
    "        \n",
    "class ConfigurationManager:\n",
    "    def __init__(self,config_filepath=CONFIG_FILE_PATH,params_filepath=PARAMS_FILE_PATH):\n",
    "        self.config = read_yaml(config_filepath)\n",
    "        self.params = read_yaml(params_filepath)\n",
    "\n",
    "        create_directories([self.config.artifacts_root]) #it can create n-number of directories\n",
    "\n",
    "    \n",
    "    def get_data_ingestion_config(self) -> DataIngestionConfig:\n",
    "        config = self.config.data_ingestion\n",
    "        create_directories([config.root_dir])\n",
    "        data_ingestion_config = DataIngestionConfig(root_dir=config.root_dir,\n",
    "                                                    source_URL=config.source_URL,\n",
    "                                                    local_data_file=config.local_data_file,\n",
    "                                                    unzip_dir=config.unzip_dir,)\n",
    "        return data_ingestion_config"
   ]
  },
  {
   "cell_type": "markdown",
   "metadata": {},
   "source": [
    "### Now writing data ingestion class"
   ]
  },
  {
   "cell_type": "code",
   "execution_count": 11,
   "metadata": {},
   "outputs": [],
   "source": [
    "#will implement logger and progress baar in data_ingestion.py file\n",
    "import os\n",
    "import urllib.request\n",
    "from zipfile import ZipFile\n",
    "\n",
    "\n",
    "\n",
    "class DataIngestion:\n",
    "    def __init__(self, config:DataIngestionConfig):\n",
    "        self.config = config\n",
    "\n",
    "\n",
    "    def download_file(self):\n",
    "        if not os.path.exists(self.config.local_data_file):\n",
    "            filename,headers = urllib.request.urlretrieve(url=self.config.source_URL,filename=self.config.local_data_file)\n",
    "\n",
    "        #### --- implementing only unzip code as per requirement --- ###\n",
    "    def unzip_file(self):\n",
    "        with ZipFile(self.config.local_data_file, 'r') as zip_ref:\n",
    "            zip_ref.extractall(self.config.unzip_dir)\n",
    "            \n",
    "    ##############3 --- unzip and preprocess code includede here --- ###################\n",
    "    # def _get_updated_list_of_files(self, list_of_files):\n",
    "    #     return [file for file in list_of_files if file.endswith(\".jpg\") and (\"Cat\" in file or \"Dog\" in file)]\n",
    "    \n",
    "    \n",
    "    # def _preprocess(self, zf:ZipFile, f:str, working_dir:str):\n",
    "    #     target_filepath = os.path.join(working_dir, f)\n",
    "    #     if not os.path.exists(target_filepath):\n",
    "    #         zf.extract(f, working_dir)\n",
    "    #     #for images which have 0 size\n",
    "    #     if os.path.getsize(target_filepath)==0:\n",
    "    #         os.remove(target_filepath)\n",
    "\n",
    "\n",
    "    # def unzip_and_clean(self):\n",
    "    #     with ZipFile(file=self.config.local_data_file, mode=\"r\") as zf:\n",
    "    #         list_of_files = zf.namelist()\n",
    "    #         updated_list_of_files = self._get_updated_list_of_files(list_of_files) #helps in getting only related image files\n",
    "            \n",
    "    #         for f in updated_list_of_files:\n",
    "    #             self._preprocess(zf, f, self.config.unzip_dir)\n",
    "                "
   ]
  },
  {
   "cell_type": "markdown",
   "metadata": {},
   "source": [
    "**`NOTE:`**\n",
    "* My folder structure for saved images will be like this : \"File_0/File_1/Dog/7.jpg\"\n",
    "* Above functions will not work for this folder structure : \"File_0/File_1/7.jpg\"\n",
    "\n",
    "Methods like : `_get_updated_list_of_files` and `_preprocess` are hidden methods\n",
    "* `Single leading underscore (_)`: This suggests method are intended for internal use within class and shouldn't be called directly from outside"
   ]
  },
  {
   "cell_type": "markdown",
   "metadata": {},
   "source": [
    "To access above Classes and Methods we need to be in root directory"
   ]
  },
  {
   "cell_type": "code",
   "execution_count": 7,
   "metadata": {},
   "outputs": [
    {
     "data": {
      "text/plain": [
       "'/media/manralai/Drive D/ImageClassifier-Pipeline'"
      ]
     },
     "execution_count": 7,
     "metadata": {},
     "output_type": "execute_result"
    }
   ],
   "source": [
    "%pwd"
   ]
  },
  {
   "cell_type": "code",
   "execution_count": 8,
   "metadata": {},
   "outputs": [
    {
     "data": {
      "text/plain": [
       "'d:\\\\ImageClassifier-Pipeline'"
      ]
     },
     "execution_count": 8,
     "metadata": {},
     "output_type": "execute_result"
    }
   ],
   "source": [
    "%pwd"
   ]
  },
  {
   "cell_type": "code",
   "execution_count": 12,
   "metadata": {},
   "outputs": [
    {
     "name": "stdout",
     "output_type": "stream",
     "text": [
      "[2024-01-05 15:23:44,500: INFO: common: yaml file: config/config.yaml loaded successfully]\n",
      "[2024-01-05 15:23:44,501: INFO: common: yaml file: params.yaml loaded successfully]\n",
      "[2024-01-05 15:23:44,502: INFO: common: Created directory at: artifacts]\n",
      "[2024-01-05 15:23:44,503: INFO: common: Created directory at: artifacts/data_ingestion]\n"
     ]
    }
   ],
   "source": [
    "try:\n",
    "    config = ConfigurationManager()\n",
    "    data_ingestion_config = config.get_data_ingestion_config()\n",
    "    data_ingestion = DataIngestion(config=data_ingestion_config)\n",
    "    data_ingestion.download_file()\n",
    "    #data_ingestion.unzip_and_clean()\n",
    "    data_ingestion.unzip_file()\n",
    "except Exception as e:\n",
    "    raise e"
   ]
  }
 ],
 "metadata": {
  "kernelspec": {
   "display_name": "cnncls",
   "language": "python",
   "name": "python3"
  },
  "language_info": {
   "codemirror_mode": {
    "name": "ipython",
    "version": 3
   },
   "file_extension": ".py",
   "mimetype": "text/x-python",
   "name": "python",
   "nbconvert_exporter": "python",
   "pygments_lexer": "ipython3",
   "version": "3.8.18"
  },
  "orig_nbformat": 4
 },
 "nbformat": 4,
 "nbformat_minor": 2
}
